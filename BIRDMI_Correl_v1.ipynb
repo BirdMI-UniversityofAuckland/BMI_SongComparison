{
 "metadata": {
  "name": "",
  "signature": "sha256:89d1eafc3668d3e1c07d04cc259200edac78c1d1cb497315980785195b7a359d"
 },
 "nbformat": 3,
 "nbformat_minor": 0,
 "worksheets": [
  {
   "cells": [
    {
     "cell_type": "raw",
     "metadata": {},
     "source": []
    },
    {
     "cell_type": "markdown",
     "metadata": {},
     "source": [
      "This Program is in Development, it's intention is to analyze song produced from a bird, against song produced by the BMI, and score these according to similarity.\n",
      "\n",
      "It is intended to work using two folders, '/rawsong' + '/bmisong' , a drawback however is that the songs for comparison must be in order of each other, so the 'n'th file in bmisong must be being compared to the 'n'th file in the rawsong folder. This could be overcome in future by implementing a naming convention, and working that into the code.\n",
      "\n",
      "This program will work by taking each song in turn from both folders, comparing them using correlation (Possibly using multiple comparing variables such as mean frequency etc... in  a future version) and return the output of these into an excel-like file format.\n",
      "\n",
      "It's intended use is to compare the output of the BMI to the output of the bird to check that the outputs match, and measure the extent to which they match, and to measure to what properties they match the best.\n",
      "\n",
      "Written by Michael Barnett"
     ]
    },
    {
     "cell_type": "code",
     "collapsed": false,
     "input": [
      "## Import various libraries to be used.\n",
      "\n",
      "import scipy as sp\n",
      "from scipy import signal, fftpack\n",
      "import numpy as np\n",
      "import matplotlib.pyplot as plt\n",
      "import scipy.io.wavfile as wav #Can call with wav.read(directory) , reads out the data from our wav file, can put [1] to return data only\n",
      "import pylab\n",
      "import contextlib # This is needed for the pcm2float definition.\n",
      "import os # Redundant unless intending to use the filenames array, as glob captures whole directory / could be faster with this however?\n",
      "import glob #used to create lists of directories of files within a folder.\n",
      "import xlwt # Used to create the exporting to Excel document function.\n",
      "from tempfile import TemporaryFile # Used to create the exporting to Excel document function. \n",
      "\n",
      "#Allows plotting graphs as output in line\n",
      "%matplotlib inline\n",
      "\n",
      "working_directory = \"c:\\\\Users\\\\mbar372\\\\Documents\\\\testing\\\\\" # Set the working directory that contains /bmisong and /rawsong folders\n"
     ],
     "language": "python",
     "metadata": {},
     "outputs": [],
     "prompt_number": 235
    },
    {
     "cell_type": "code",
     "collapsed": false,
     "input": [
      "def  set_working_directory():\n",
      "    # Set the working directory that contains /bmisong and /rawsong folders\n",
      "    new_working_directory = raw_input(\"New Directory: \"+working_directory) \n",
      "    working_directory = new_working_directory\n",
      "    "
     ],
     "language": "python",
     "metadata": {},
     "outputs": [],
     "prompt_number": 236
    },
    {
     "cell_type": "code",
     "collapsed": false,
     "input": [
      "## For some reason the 1 seems to represent the X axis (or alphabet axis) on Excel - crazy\n",
      "\n",
      "def export_to_excel (namesraw,namesbmi,data_coefficients, start = 0):\n",
      "    \"\"\"This method takes the data we have gathered and puts it all nice and neat into an excel file. IN PROGRESS.\n",
      "    \"\"\"\n",
      "    from tempfile import TemporaryFile\n",
      "    book = xlwt.Workbook()\n",
      "    sheet1 = book.add_sheet('BIRDMI_OUTPUT')\n",
      "\n",
      "    headings = ['Raw file' , 'BMI file' ,' ', 'Coefficients']\n",
      "    for i,n in enumerate(headings):\n",
      "        sheet1.write(0,i,n, xlwt.easyxf('font: bold 1'))\n",
      "\n",
      "    for i,n in enumerate(namesraw,1):\n",
      "        sheet1.write(i,0,n) \n",
      "        \n",
      "    for i,n in enumerate(namesbmi,1):\n",
      "        sheet1.write(i,1,n) \n",
      "        \n",
      "    for i,d in enumerate(data_coefficients,1+start):\n",
      "        sheet1.write(i,3,d) \n",
      "        \n",
      "    sheet1.col(0).width = 256 * (len(namesraw[0]) + 1) \n",
      "    # set width.. 256 = 1 width of 0 character\n",
      "    sheet1.col(1).width = 256 * (len(namesbmi[0]) + 1) \n",
      "    # set width.. 256 = 1 width of 0 character\n",
      "    sheet1.col(3).width = 256 * (len(headings[3]) + 1) \n",
      "    # set width.. 256 = 1 width of 0 character\n",
      "        \n",
      "    name = \"data_output.xls\"\n",
      "    book.save(working_directory+name)\n",
      "    book.save(TemporaryFile())\n",
      "    \n",
      "    os.system('start excel.exe \"%s\\\\data_output.xls\"' % (working_directory, ))"
     ],
     "language": "python",
     "metadata": {},
     "outputs": [],
     "prompt_number": 237
    },
    {
     "cell_type": "code",
     "collapsed": false,
     "input": [
      "\n",
      "def create_song_dataset(directory): # input is the working directory where 'rawsong' folder is kept\n",
      "    \"\"\" This function returns the normalised amplitude data of all songs in a directory, \n",
      "    It also creates another array containing just the names of the files, for use in excel data\n",
      "    \"\"\"\n",
      "    ## This is an array of directories to the song files to be tested.\n",
      "    raw_song_dir_array  = glob.glob(directory + '\\\\*.wav')\n",
      "\n",
      "    ## This cycles through every wav file in the array and assigns its 'data' ( [1] is used to return amplitude data only) to song_array\n",
      "    song_array = [wav.read(n)[1] for n in raw_song_dir_array]\n",
      "    \n",
      "    ## Normalises each song individually before creating final output array\n",
      "    song_array = [pcm2float(n,'float64') for n in song_array]\n",
      "    \n",
      "    raw_song_filename_array = os.listdir(directory) #The name of the files, not used yet, and needs to be fixed for directory+filename\n",
      "    \n",
      "    return song_array,raw_song_filename_array   ## Return array of numpy arrays filled with normalised song data. + names\n"
     ],
     "language": "python",
     "metadata": {},
     "outputs": [],
     "prompt_number": 238
    },
    {
     "cell_type": "code",
     "collapsed": false,
     "input": [
      "## Simple removes negative values in set of data - unused as of yet.\n",
      "\n",
      "def remove_negative(array):\n",
      "    \"\"\" Removes all negative values from an array - unused at the moment, was intended to clean up correlations.\n",
      "    \"\"\"\n",
      "    ## Clips away all negative values     \n",
      "    array = [n.clip(0,np.max(n)) for n in array] \n",
      "    return array"
     ],
     "language": "python",
     "metadata": {},
     "outputs": [],
     "prompt_number": 239
    },
    {
     "cell_type": "code",
     "collapsed": false,
     "input": [
      "### Quick Function to draw a plot of wav array data in amplitude over time or as spectrogram\n",
      "### wavarray = the array of the wav to be used, spectrogram = boolean True or False, or if anything else, will draw both. \n",
      "def draw_wav_output (wavarray , lineweight=0.01, spectrogram=False):\n",
      "    \"\"\" A quick draw function that has slowly been made redundant, however it is useful to easily switch between drawing \n",
      "    amplitude or spectrogram song datas using the matplotlib libraries, should really not have the .show() commant written in so that \n",
      "    the it can be used inline with other matplotlib settings, or put those settings before the final draw.\n",
      "    \"\"\"\n",
      "    if (spectrogram == True):\n",
      "        plt.specgram(wavarray)\n",
      "        plt.show()\n",
      "    elif (spectrogram == False): \n",
      "        plt.plot(wavarray, lw=lineweight)\n",
      "        plt.show()\n",
      "    else:\n",
      "        plt.plot(wavarray, lw=lineweight)\n",
      "        plt.show()\n",
      "        plt.specgram(wavarray)\n",
      "        plt.show()"
     ],
     "language": "python",
     "metadata": {},
     "outputs": [],
     "prompt_number": 240
    },
    {
     "cell_type": "code",
     "collapsed": false,
     "input": [
      "\n",
      "# NOTE - Took this from GitHub user mgeier - see GitHub repository where fork has been made. This simply normalises the arrays im using.\n",
      "\n",
      "def pcm2float(sig, dtype='float64'):\n",
      "    \"\"\"Convert PCM signal to floating point with a range from -1 to 1.\n",
      "    Use dtype='float32' for single precision.\n",
      "    Parameters\n",
      "    ----------\n",
      "    sig : array_like\n",
      "        Input array, must have (signed) integral type.\n",
      "    dtype : data type, optional\n",
      "        Desired (floating point) data type.\n",
      "    Returns\n",
      "    -------\n",
      "    ndarray\n",
      "        normalized floating point data.\n",
      "    See Also\n",
      "    --------\n",
      "    float2pcm, dtype\n",
      "    \"\"\"\n",
      "    # TODO: allow unsigned (e.g. 8-bit) data\n",
      "\n",
      "    sig = np.asarray(sig)\n",
      "    if sig.dtype.kind != 'i':\n",
      "        raise TypeError(\"'sig' must be an array of signed integers\")\n",
      "    dtype = np.dtype(dtype)\n",
      "    if dtype.kind != 'f':\n",
      "        raise TypeError(\"'dtype' must be floating point type\")\n",
      "\n",
      "    # Note that 'min' has a greater (by 1) absolute value than 'max'!\n",
      "    # Therefore, we use '-min' here to avoid clipping.\n",
      "    return sig.astype(dtype) / dtype.type(-np.iinfo(sig.dtype).min)"
     ],
     "language": "python",
     "metadata": {},
     "outputs": [],
     "prompt_number": 241
    },
    {
     "cell_type": "code",
     "collapsed": false,
     "input": [
      "def create_array_datasets():\n",
      "    \"\"\" Loads all the song data from the respective folders and plonks them into arrays \n",
      "    using the create_song_dataset definition. For use throughout the rest of the program\n",
      "    \"\"\"\n",
      "    print \"creating array datasets\"\n",
      "    # Create array of all songs in rawsong\n",
      "    rawsong_array, rawsong_names = create_song_dataset(working_directory +'rawsong') \n",
      "    # Create array of all songs in bmisong\n",
      "    bmisong_array, bmisong_names = create_song_dataset(working_directory + 'bmisong') \n",
      "    \n",
      "    return rawsong_array, bmisong_array, rawsong_names, bmisong_names"
     ],
     "language": "python",
     "metadata": {},
     "outputs": [],
     "prompt_number": 242
    },
    {
     "cell_type": "code",
     "collapsed": false,
     "input": [
      "def process_song_data(raw,bmi,task = 0):\n",
      "    \"\"\" The purpose of this definition is so to have one call that will execute different comparison tasks\n",
      "    However , at the moment only the co-efficients task works appropraitely, in a future point would like to have other\n",
      "    forms of song comparison methods - mean freq and pitch etc etc etc\n",
      "    \"\"\"\n",
      "    if task == 1: # Task 1, Correlate array data using numpy.correlate, return as correlate array\n",
      "        correlated_array = plt.xcorr(raw,bmi)\n",
      "        return correlated_array\n",
      "    elif task == 2: # Task 2, return a correlation co-efficient as a percentage\n",
      "        corrcoefdata = np.corrcoef(raw,bmi)\n",
      "        coefficient_value = abs(int(corrcoefdata[1,0]*100000)/1000.00)\n",
      "        return coefficient_value\n",
      "    else: print \"Error, Unknown Task, 1 = Correlate, 2 = % Coefficent, 0,3->n=undefined\"\n",
      "    \n",
      "        "
     ],
     "language": "python",
     "metadata": {},
     "outputs": [],
     "prompt_number": 243
    },
    {
     "cell_type": "code",
     "collapsed": false,
     "input": [
      "def create_comparison_arrays(array1,array2, draw = \"no\"):\n",
      "    \"\"\"The purpose of this function is to take two arrays, padd them to the same size, \n",
      "    find the point of highest similarity using conjugates in the Fourier plane, \n",
      "    and then offset these padded arrays by an amount to create two comparable datasets at a point of highest similarity.\n",
      "    \"\"\"    \n",
      "    #sizes and calculate the padding value\n",
      "    size1 = int(array1.shape[0])\n",
      "    size2 = int(array2.shape[0])\n",
      "    \n",
      "    #store original sizes of real data for future use after padding occurs.\n",
      "    orig_size1 = size1\n",
      "    orig_size2 = size2\n",
      "        \n",
      "    # Calculate padding necesarry to make size1.len = size2.len\n",
      "    padding_value = abs( size1 - size2 )\n",
      "   \n",
      "    #pad the smallest array's end to be the same size as the larger.\n",
      "    #print \"Padding by difference between sizes: \" + str(padding_value)\n",
      "    if size1<size2:\n",
      "        array1 = np.pad(array1, (0,padding_value), mode = 'constant', constant_values = 0)\n",
      "    if size2<size1:\n",
      "        array2 = np.pad(array2, (0,padding_value), mode = 'constant', constant_values = 0)\n",
      "\n",
      "    # To check lengths are the same still, and update to new values.\n",
      "    size1 = int(array1.shape[0])\n",
      "    size2 = int(array2.shape[0])\n",
      "    if size1 != size2:\n",
      "        #print \"Difference between shapes is, \" + str(size1) + \" and \" + str(size2) + \".\" \n",
      "        raise \"Error, the two arrays failed to pad properly.\"\n",
      "    \n",
      "    ## Calculate a new offset using FFT\n",
      "    A = fftpack.fft(array1)\n",
      "    B = fftpack.fft(array2)\n",
      "    Ar = -A.conjugate()\n",
      "    Br = -B.conjugate()\n",
      "    offset1test = np.argmax(np.abs(fftpack.ifft(Ar*B)))\n",
      "    offset2test = np.argmax(np.abs(fftpack.ifft(A*Br))) ## This is simple the overshoot of offset1 past the length of the array2\n",
      "    \n",
      "    ## Depending on which array is shorter, depends on which way to move the arrays relative to each other to achieve maximum correlation.\n",
      "    if offset1test < offset2test:\n",
      "        #print \"offset of \" + str(offset1test) + \" applied on RAW data\"\n",
      "        offset1 = offset1test\n",
      "        offset2 = 0\n",
      "    else:\n",
      "        #print \"offset of \" + str(offset2test) + \" applied on BMI data\"\n",
      "        offset1 = 0\n",
      "        offset2 = offset2test\n",
      "        \n",
      "    \n",
      "    ## Pad by the offset calculated by the correlation onto the beginning of the first array, and onto the end of the second.\n",
      "    ## Note this is calculated depending on the smallest movement, and is thus applied as oether offset 1 or offset 2, but switching\n",
      "    ## which dataset to add it to the front or back of.\n",
      "    array1 = np.pad(array1, (int(offset1),int(offset2)), mode = 'constant', constant_values = 0)\n",
      "    array2 = np.pad(array2, (int(offset2),int(offset1)), mode = 'constant', constant_values = 0)\n",
      "    \n",
      "    # Calculate the points of overlap between the two arrays\n",
      "    point1 = offset1 + offset2\n",
      "    point2 = min(offset1 + orig_size1, offset2 + orig_size2)\n",
      "    \n",
      "    # If draw is yes, then draw the plots\n",
      "    if draw == 'yes':\n",
      "        plt.plot(array1)\n",
      "        plt.plot(array2-0.01)\n",
      "        plt.axvline(point1+1, linewidth=2, color='r')\n",
      "        plt.axvline(point2-1, linewidth=2, color='r')\n",
      "        plt.show()\n",
      "    \n",
      "    comparearray1 = array1[point1:point2]\n",
      "    comparearray2 = array2[point1:point2]\n",
      "\n",
      "    # Return only the maximum overlap of the two arrays at the maximum correlation point offset.\n",
      "    return comparearray1, comparearray2"
     ],
     "language": "python",
     "metadata": {},
     "outputs": [],
     "prompt_number": 244
    },
    {
     "cell_type": "code",
     "collapsed": true,
     "input": [
      "\n"
     ],
     "language": "python",
     "metadata": {},
     "outputs": [],
     "prompt_number": 244
    },
    {
     "cell_type": "code",
     "collapsed": false,
     "input": [
      "def perform_analysis(startfile = 0, iterations = 99999999,correlate = False, coefficient = False, drawgraph = 'no'):\n",
      "    \"\"\" This performs a full comparison between all the wav files in the folders rawsong and bmisong\n",
      "    and returns the data in an array where each node is a comparison and contains the format [coefficient%,namefile1,namefile2]\n",
      "    The idea is, is  that this is the 'mother' method of the whole program. Perhaps I should make it a Class.\n",
      "    -----\n",
      "    startfile = 0 \n",
      "    this is what file to start the comparisons from, default is from the beginning of all files.\n",
      "    -----\n",
      "    iterations = 999999999\n",
      "    This is how far through the files you want to compare, if larger than the number of files avaliable, it will be cut to include\n",
      "    all files, default is a large number, which is all files\n",
      "    -----\n",
      "    correlate , coefficient\n",
      "    set to true to perform that task and have it returned\n",
      "    -----\n",
      "    drawgraph = 'no'\n",
      "    If set to 'yes' , will draw out using matplotlib how each audio file was offset and padded during comparisons\n",
      "    -----\n",
      "    \"\"\"\n",
      "    ## here we basically test if the file we want to write to is writable - if it isnt urll get an error and not waste \n",
      "    ## Time waiting for all the processing to be finished before finding out you left the excel document open in the toolbar.\n",
      "    book = xlwt.Workbook()\n",
      "    sheet1 = book.add_sheet('BIRDMI_OUTPUT')\n",
      "    name = \"data_output.xls\"\n",
      "    book.save(name)\n",
      "    book.save(TemporaryFile())\n",
      "    \n",
      "    # Create the datasets from the folders rawsong and bmisong and return the amplitude data into arrays\n",
      "    rawsong_array, bmisong_array, rawnames_array, bminames_array  = create_array_datasets()\n",
      "     \n",
      "    # If the startpoint set is greater  than that of the number of files, then we only do the last file.\n",
      "    if startfile > min(len(rawsong_array),len(bmisong_array))-1:\n",
      "        startfile = min(len(rawsong_array),len(bmisong_array))-1\n",
      "    \n",
      "    # Calculates number of iterations necessary based on input or if input too large, the rest of the dataset from the startfile.\n",
      "    iterations = min(iterations - startfile,len(rawsong_array)-startfile,len(bmisong_array)-startfile) \n",
      "   \n",
      "    # Initialise output arrays\n",
      "    output_task1 = []\n",
      "    output_task2 = []\n",
      "    \n",
      "    # Loop through and compare each file, adding it to the new output array, designed to include tasks as they get added.\n",
      "    for n in range(iterations):\n",
      "        n = n+startfile\n",
      "        print \"\"+str(n)+\"th comparison ... \"\n",
      "        #create the comparison arrays of the two folders\n",
      "        rawsong_array_test, bmisong_array_test = create_comparison_arrays(rawsong_array[n],bmisong_array[n],draw=drawgraph)\n",
      "        #perform the tasks\n",
      "        if correlate == True:\n",
      "            output_task1.append(process_song_data(rawsong_array_test,bmisong_array_test,1))\n",
      "        if coefficient == True:\n",
      "            output_task2.append(process_song_data(rawsong_array_test,bmisong_array_test,2))\n",
      "        print \"Finished ... result: \"+str(output_task2[n-startfile])+\"%\"\n",
      "    \n",
      "    export_to_excel(rawnames_array,bminames_array,output_task2, start = startfile)\n",
      "    \n",
      "    print \"Finished Writing to Excel Document!\"\n",
      "    print working_directory+\"data_output.xls\"\n",
      "    \n",
      "    return  rawnames_array, bminames_array, output_task1, output_task2\n",
      "    "
     ],
     "language": "python",
     "metadata": {},
     "outputs": [],
     "prompt_number": 245
    },
    {
     "cell_type": "code",
     "collapsed": false,
     "input": [],
     "language": "python",
     "metadata": {},
     "outputs": [],
     "prompt_number": 245
    },
    {
     "cell_type": "code",
     "collapsed": false,
     "input": [
      "## Working Cell\n",
      "\n",
      "t,t,t,t = perform_analysis(startfile = 0,iterations = 99,correlate = False, coefficient = True, drawgraph='no')\n"
     ],
     "language": "python",
     "metadata": {},
     "outputs": [
      {
       "output_type": "stream",
       "stream": "stdout",
       "text": [
        "creating array datasets\n",
        "0th comparison ... "
       ]
      },
      {
       "output_type": "stream",
       "stream": "stdout",
       "text": [
        "\n",
        "Finished ... result: 100.0%"
       ]
      },
      {
       "output_type": "stream",
       "stream": "stdout",
       "text": [
        "\n",
        "1th comparison ... \n",
        "Finished ... result: 100.0%"
       ]
      },
      {
       "output_type": "stream",
       "stream": "stdout",
       "text": [
        "\n",
        "2th comparison ... \n",
        "Finished ... result: 100.0%"
       ]
      },
      {
       "output_type": "stream",
       "stream": "stdout",
       "text": [
        "\n",
        "3th comparison ... \n",
        "Finished ... result: 100.0%"
       ]
      },
      {
       "output_type": "stream",
       "stream": "stdout",
       "text": [
        "\n",
        "4th comparison ... \n",
        "Finished ... result: 100.0%"
       ]
      },
      {
       "output_type": "stream",
       "stream": "stdout",
       "text": [
        "\n",
        "5th comparison ... \n",
        "Finished ... result: 100.0%"
       ]
      },
      {
       "output_type": "stream",
       "stream": "stdout",
       "text": [
        "\n",
        "6th comparison ... \n",
        "Finished ... result: 100.0%"
       ]
      },
      {
       "output_type": "stream",
       "stream": "stdout",
       "text": [
        "\n",
        "7th comparison ... \n",
        "Finished ... result: 100.0%"
       ]
      },
      {
       "output_type": "stream",
       "stream": "stdout",
       "text": [
        "\n",
        "Finished Writing to Excel Document!"
       ]
      },
      {
       "output_type": "stream",
       "stream": "stdout",
       "text": [
        "\n",
        "c:\\Users\\mbar372\\Documents\\testing\\data_output.xls\n"
       ]
      }
     ],
     "prompt_number": 246
    },
    {
     "cell_type": "code",
     "collapsed": false,
     "input": [
      "## Working test Cell - used for testing the random generation and comparison creation methods. I still have it cause I don't want to \n",
      "## loose the cool noise creating bits. \n",
      "print \"working ...\"\n",
      "\n",
      "# Create arrays filled with datasets from folders\n",
      "# Loop through datasets to compare to \n",
      "# Create normalised datasets of all songs involved:\n",
      "rawsong_array, bmisong_array, rawnames_array, bminames_array = create_array_datasets()\n",
      "\n",
      "print \"Assigning random array segments ... \"\n",
      "arraytest1 = rawsong_array[0][np.random.randint(200000):np.random.randint(100000)+200000]\n",
      "arraytest2 = rawsong_array[0]#[100000:200000]\n",
      "\n",
      "\n",
      "\n",
      "##Add some noise to array2 to simulate a poor BMI performace:\n",
      "print \"Adding simulatory BMI noise to BMI Dataset\"\n",
      "noise = np.random.normal(0,0.0005,arraytest2.shape)\n",
      "arraytest2 = arraytest2 + noise\n",
      "\n",
      "## Align and pad the data for comparison\n",
      "arraytest1,arraytest2 = create_comparison_arrays(arraytest1,arraytest2,draw = 'yes')\n",
      "## Find a Co-efficient\n",
      "print \"Performing Correlaton\"\n",
      "t = process_song_data(arraytest1, arraytest2,task = 2)\n",
      "\n",
      "print t"
     ],
     "language": "python",
     "metadata": {},
     "outputs": [
      {
       "output_type": "stream",
       "stream": "stdout",
       "text": [
        "working ...\n",
        "creating array datasets\n",
        "Assigning random array segments ... "
       ]
      },
      {
       "output_type": "stream",
       "stream": "stdout",
       "text": [
        "\n",
        "Adding simulatory BMI noise to BMI Dataset\n"
       ]
      },
      {
       "metadata": {},
       "output_type": "display_data",
       "png": "[encoded data removed]",
       "text": [
        "<matplotlib.figure.Figure at 0x15915828>"
       ]
      },
      {
       "output_type": "stream",
       "stream": "stdout",
       "text": [
        "Performing Correlaton\n",
        "92.368\n"
       ]
      }
     ],
     "prompt_number": 247
    },
    {
     "cell_type": "code",
     "collapsed": false,
     "input": [],
     "language": "python",
     "metadata": {},
     "outputs": [],
     "prompt_number": 213
    },
    {
     "cell_type": "code",
     "collapsed": false,
     "input": [],
     "language": "python",
     "metadata": {},
     "outputs": []
    }
   ],
   "metadata": {}
  }
 ]
}